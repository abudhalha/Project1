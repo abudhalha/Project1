{
 "cells": [
  {
   "cell_type": "code",
   "execution_count": null,
   "id": "1a77f7c3",
   "metadata": {},
   "outputs": [
    {
     "name": "stdout",
     "output_type": "stream",
     "text": [
      "Welcome to the Coffee Machine!\n",
      "What would you like? (espresso/latte/cappuccino): latte\n",
      "Please insert Coins.\n"
     ]
    }
   ],
   "source": [
    "class CoffeeMachine:\n",
    "    def __init__(self):\n",
    "        self.resources = {'Water': 300,\n",
    "                        'Milk': 200,\n",
    "                        'Coffee': 100,\n",
    "                        'Money': 0}\n",
    "        self.menu = {'espresso': {'Water': 50, 'Milk': 0, 'Coffee': 18, 'Cost': 1.5},\n",
    "                    'latte': {'Water': 200, 'Milk': 150, 'Coffee': 24, 'Cost': 2.5},\n",
    "                    'cappuccino': {'Water': 250, 'Milk': 100, 'Coffee': 24, 'Cost': 3.0}}\n",
    "        self.coins = {'quarters': 0.25, 'dimes': 0.10, 'nickles': 0.05, 'pennies': 0.01}\n",
    "        \n",
    "    def prompt_user(self):\n",
    "        choice = input(\"What would you like? (espresso/latte/cappuccino): \").lower()\n",
    "        if choice == 'off':\n",
    "            print(\"Turning off the Coffee Machine. Goodbye!\")\n",
    "            return False #End Program execution\n",
    "        elif choice == 'report':\n",
    "            self.generate_report()\n",
    "        else:\n",
    "            self.process_order(choice)\n",
    "        return True\n",
    "        \n",
    "    def process_order(self, choice):\n",
    "        drink = self.menu.get(choice)\n",
    "        if drink is None:\n",
    "            print(\"Sorry, that is not a valid choice. Please try again.\")\n",
    "            return\n",
    "        \n",
    "        if self.check_resources(drink):\n",
    "            coins_total = self.process_coins(drink['Cost'])\n",
    "            if coins_total < drink['Cost']:\n",
    "                print(\"Sorry, that's not enough money. Money refunded\")\n",
    "            else:\n",
    "                self.make_coffee(choice, drink)\n",
    "                change = round(coins_total - drink['Cost'], 2)\n",
    "                if change > 0:\n",
    "                    print(f\"Here is ${change} in change.\")\n",
    "                print(f\"Here is your {choice}. Enjoy\")\n",
    "            \n",
    "    def check_resources(self, drink):\n",
    "        for resource, amount in drink.items():\n",
    "            if resource != 'Cost' and self.resources[resource] < amount:\n",
    "                print(f\"Sorry, there is not enough {resource.lower()}.\")\n",
    "                return False\n",
    "        return True\n",
    "    \n",
    "    def process_coins(self, cost):\n",
    "        print(\"Please insert Coins.\")\n",
    "        total = 0\n",
    "        for coin, value in self.coins.items():\n",
    "            count = int(input(f\"How many {coin}?: \"))\n",
    "            total += count * value\n",
    "        return total\n",
    "    \n",
    "    def make_coffee(self, choice, drink):\n",
    "        for resource, amount in drink.items():\n",
    "            if resource != 'Cost':\n",
    "                self.resources[resource] -= amount\n",
    "        self.resources['Money'] += drink['Cost']\n",
    "        \n",
    "    def generate_report(self):\n",
    "        print(\"Current Resource Values: \")\n",
    "        for resource, amount in self.resources.items():\n",
    "            if resource == 'Money':\n",
    "                print(f\"{resource}: ${amount}\")\n",
    "            else:\n",
    "                print(f\"{resource}: ${amount}ml/g\")\n",
    "                \n",
    "    def run(self):\n",
    "        print(\"Welcome to the Coffee Machine!\")\n",
    "        while self.prompt_user():\n",
    "            print() #Print a blank line for readability\n",
    "            \n",
    "#Create an instance of the CoffeeMachine class and run the program\n",
    "coffee_machine = CoffeeMachine()\n",
    "coffee_machine.run()"
   ]
  },
  {
   "cell_type": "code",
   "execution_count": null,
   "id": "17cbc751",
   "metadata": {},
   "outputs": [],
   "source": []
  }
 ],
 "metadata": {
  "kernelspec": {
   "display_name": "Python 3 (ipykernel)",
   "language": "python",
   "name": "python3"
  },
  "language_info": {
   "codemirror_mode": {
    "name": "ipython",
    "version": 3
   },
   "file_extension": ".py",
   "mimetype": "text/x-python",
   "name": "python",
   "nbconvert_exporter": "python",
   "pygments_lexer": "ipython3",
   "version": "3.9.12"
  }
 },
 "nbformat": 4,
 "nbformat_minor": 5
}
