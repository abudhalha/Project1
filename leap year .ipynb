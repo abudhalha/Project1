{
 "cells": [
  {
   "cell_type": "code",
   "execution_count": 3,
   "id": "c4da0937",
   "metadata": {},
   "outputs": [
    {
     "name": "stdout",
     "output_type": "stream",
     "text": [
      "enter the year=2023\n",
      "2023 is not a leap year\n"
     ]
    }
   ],
   "source": [
    "import calendar\n",
    "year = int(input('enter the year='))\n",
    "\n",
    "#calling is leap() method to verify\n",
    "val = calendar.isleap(year)\n",
    "\n",
    "#checking the condition is true or not\n",
    "\n",
    "if val==True:\n",
    "    print('% s is a leap year'% year)\n",
    "else:\n",
    "    print('% s is not a leap year'% year)"
   ]
  },
  {
   "cell_type": "code",
   "execution_count": null,
   "id": "56814e9a",
   "metadata": {},
   "outputs": [],
   "source": []
  }
 ],
 "metadata": {
  "kernelspec": {
   "display_name": "Python 3 (ipykernel)",
   "language": "python",
   "name": "python3"
  },
  "language_info": {
   "codemirror_mode": {
    "name": "ipython",
    "version": 3
   },
   "file_extension": ".py",
   "mimetype": "text/x-python",
   "name": "python",
   "nbconvert_exporter": "python",
   "pygments_lexer": "ipython3",
   "version": "3.9.12"
  }
 },
 "nbformat": 4,
 "nbformat_minor": 5
}
