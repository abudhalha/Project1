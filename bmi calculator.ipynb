{
 "cells": [
  {
   "cell_type": "code",
   "execution_count": 5,
   "id": "cc41a360",
   "metadata": {},
   "outputs": [
    {
     "ename": "SyntaxError",
     "evalue": "invalid syntax (3210525218.py, line 3)",
     "output_type": "error",
     "traceback": [
      "\u001b[1;36m  Input \u001b[1;32mIn [5]\u001b[1;36m\u001b[0m\n\u001b[1;33m    bmi=(weight/(height*height)\u001b[0m\n\u001b[1;37m    ^\u001b[0m\n\u001b[1;31mSyntaxError\u001b[0m\u001b[1;31m:\u001b[0m invalid syntax\n"
     ]
    }
   ],
   "source": [
    "height=round(float(input(\"enter your height in meter:\")))\n",
    "weight=round(float(input(\"enter ypur weight in kg:\"))\n",
    "bmi=(weight/(height*height)\n",
    "             \n",
    " if bmi < 18.5\n",
    "   print ('your BMI is:',bmi)\n",
    "            \n",
    "elif 18.5 >= bmi<25:\n",
    "     print('you are underweight')\n",
    " elif 25>=bmi<30:\n",
    "     print('you are a slightly overweight')\n",
    "             \n",
    " elif 30>=bmi<35:\n",
    "    print('you are obesse')\n",
    "\n",
    "else:\n",
    "     print('you  are clinically obese.')"
   ]
  },
  {
   "cell_type": "code",
   "execution_count": null,
   "id": "bfcf999c",
   "metadata": {},
   "outputs": [],
   "source": []
  },
  {
   "cell_type": "code",
   "execution_count": 10,
   "id": "bf821b47",
   "metadata": {},
   "outputs": [
    {
     "ename": "SyntaxError",
     "evalue": "invalid syntax (1143652671.py, line 3)",
     "output_type": "error",
     "traceback": [
      "\u001b[1;36m  Input \u001b[1;32mIn [10]\u001b[1;36m\u001b[0m\n\u001b[1;33m    Bmi=(weight/(height*height)\u001b[0m\n\u001b[1;37m    ^\u001b[0m\n\u001b[1;31mSyntaxError\u001b[0m\u001b[1;31m:\u001b[0m invalid syntax\n"
     ]
    }
   ],
   "source": [
    "height=round(float(input(\"enter your height in meter:\")))\n",
    "weight=round(float(input(\"enter ypur weight in kg:\"))\n",
    "Bmi=(weight/(height*height)\n",
    "             \n",
    " if bmi < 18.5\n",
    "   print ('your BMI is:',bmi)\n",
    "            \n",
    " elif 18.5 >= bmi<25:\n",
    "     print('you are underweight')\n",
    " elif 25>=bmi<30:\n",
    "     print('you are a slightly overweight')\n",
    "             \n",
    " elif 30>=bmi<35:\n",
    "    print('you are obesse')\n",
    "\n",
    " else:\n",
    "     print('you  are clinically obese.')"
   ]
  },
  {
   "cell_type": "code",
   "execution_count": null,
   "id": "b9a2bf3f",
   "metadata": {},
   "outputs": [],
   "source": [
    "height = round(float(input(\"enter your height in meter : \")))\n",
    "weight = round(float(input(\"enter your weight in kg : \")))\n",
    "bmi = (weight/(height*height))\n",
    "print('Your BMI is : ',bmi)\n",
    "if bmi < 18.5:\n",
    "    print('You are underweight')\n",
    "elif 18.5 >= bmi < 25:\n",
    "    print('You have a normal weight')\n",
    "elif 25 >= bmi < 30:\n",
    "    print('You are slightly overweight')\n",
    "elif 30 >= bmi < 35:\n",
    "    print('You are obese')\n",
    "else:\n",
    "    print('You are clinically obese.')"
   ]
  }
 ],
 "metadata": {
  "kernelspec": {
   "display_name": "Python 3 (ipykernel)",
   "language": "python",
   "name": "python3"
  },
  "language_info": {
   "codemirror_mode": {
    "name": "ipython",
    "version": 3
   },
   "file_extension": ".py",
   "mimetype": "text/x-python",
   "name": "python",
   "nbconvert_exporter": "python",
   "pygments_lexer": "ipython3",
   "version": "3.9.12"
  }
 },
 "nbformat": 4,
 "nbformat_minor": 5
}
