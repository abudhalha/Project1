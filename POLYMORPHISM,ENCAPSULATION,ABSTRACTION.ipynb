{
 "cells": [
  {
   "cell_type": "markdown",
   "id": "63e4f5fe",
   "metadata": {},
   "source": [
    "# what is polymorphism\n",
    "\n"
   ]
  },
  {
   "cell_type": "raw",
   "id": "c92ba367",
   "metadata": {},
   "source": [
    "the word polymorphism means having many forms.In programing,polymorphism means the same funcnction name (but different signature )\n",
    "being used for different types"
   ]
  },
  {
   "cell_type": "markdown",
   "id": "b7520f90",
   "metadata": {},
   "source": [
    "# example of inbuilt polymorphism function"
   ]
  },
  {
   "cell_type": "code",
   "execution_count": 2,
   "id": "fbd50414",
   "metadata": {},
   "outputs": [
    {
     "name": "stdout",
     "output_type": "stream",
     "text": [
      "7\n"
     ]
    }
   ],
   "source": [
    "s='phython'\n",
    "print(len(s))"
   ]
  },
  {
   "cell_type": "markdown",
   "id": "6fc89b29",
   "metadata": {},
   "source": [
    "# examples of user defined polymorphism function."
   ]
  },
  {
   "cell_type": "code",
   "execution_count": 4,
   "id": "8c1ff0db",
   "metadata": {},
   "outputs": [
    {
     "name": "stdout",
     "output_type": "stream",
     "text": [
      "23\n",
      "64\n"
     ]
    }
   ],
   "source": [
    "# a simple function to demonstrate polymorphism.\n",
    " \n",
    "def add(x,y,z=0):\n",
    "    return x+y+z\n",
    "print(add(20,3))\n",
    "print(add(25,35,4))"
   ]
  },
  {
   "cell_type": "markdown",
   "id": "8cbed222",
   "metadata": {},
   "source": [
    "# Key points to remember\n"
   ]
  },
  {
   "cell_type": "raw",
   "id": "9e3c3638",
   "metadata": {},
   "source": [
    "* Object-Oriented programming makes the program easy to understand as well as efficient.\n",
    "* since the class is sharble,the code can be reused.\n",
    "* Data is safe and secure with data abstraction.\n",
    "* Polymorphism allows the same interface for different objects, so programmers can write efficient code."
   ]
  },
  {
   "cell_type": "code",
   "execution_count": 7,
   "id": "081c3605",
   "metadata": {},
   "outputs": [
    {
     "name": "stdout",
     "output_type": "stream",
     "text": [
      "New delhi is the capital of india\n",
      "Hindi is the most widely spoken language in india\n",
      "India is the developing country\n",
      "Wasington,D.C is the captial of usa\n",
      "English is the most widely spoken language of usa\n",
      "USA is the developed country\n"
     ]
    }
   ],
   "source": [
    "#Country -- India,US\n",
    "\n",
    "class India():\n",
    "    def capital(self):\n",
    "        print('New delhi is the capital of india')\n",
    "    def language(self):\n",
    "        print('Hindi is the most widely spoken language in india')\n",
    "    def type(self):\n",
    "        print('India is the developing country')\n",
    "        \n",
    "class USA():\n",
    "    def capital(self):\n",
    "        print('Wasington,D.C is the captial of usa')\n",
    "    def language(self):\n",
    "        print('English is the most widely spoken language of usa')\n",
    "    def type(self):\n",
    "        print('USA is the developed country')\n",
    "obj_ind=India()\n",
    "obj_usa=USA()\n",
    "for country in (obj_ind,obj_usa):\n",
    "    country.capital()\n",
    "    country.language()\n",
    "    country.type()"
   ]
  },
  {
   "cell_type": "markdown",
   "id": "4921052e",
   "metadata": {},
   "source": [
    "# Encapsulation."
   ]
  },
  {
   "cell_type": "markdown",
   "id": "05a71d09",
   "metadata": {},
   "source": [
    "*Encapsulation is one of the fundamental concept in object-oriented programming (OOP).\n",
    "\n",
    "it describes the idea of wrapping data and the method that work on data within one unit.\n",
    "\n",
    "*This puts restriction on accessing varaibles and methods directly and can prevent the accidental modification of data.\n",
    "\n",
    "*To prevent accidental change, an object's varaible. those types of varaiable are known as private varaibles."
   ]
  },
  {
   "cell_type": "code",
   "execution_count": 14,
   "id": "92dbb026",
   "metadata": {},
   "outputs": [
    {
     "ename": "AttributeError",
     "evalue": "'Bank' object has no attribute 'salary'",
     "output_type": "error",
     "traceback": [
      "\u001b[1;31m---------------------------------------------------------------------------\u001b[0m",
      "\u001b[1;31mAttributeError\u001b[0m                            Traceback (most recent call last)",
      "Input \u001b[1;32mIn [14]\u001b[0m, in \u001b[0;36m<cell line: 18>\u001b[1;34m()\u001b[0m\n\u001b[0;32m     15\u001b[0m         \u001b[38;5;28mprint\u001b[39m(\u001b[38;5;124m'\u001b[39m\u001b[38;5;124mNative : Tenkasi\u001b[39m\u001b[38;5;124m'\u001b[39m)\n\u001b[0;32m     17\u001b[0m b\u001b[38;5;241m=\u001b[39mBank()\n\u001b[1;32m---> 18\u001b[0m \u001b[38;5;28mprint\u001b[39m(\u001b[43mb\u001b[49m\u001b[38;5;241;43m.\u001b[39;49m\u001b[43msalary\u001b[49m)\n\u001b[0;32m     19\u001b[0m b\u001b[38;5;241m.\u001b[39melango()\n",
      "\u001b[1;31mAttributeError\u001b[0m: 'Bank' object has no attribute 'salary'"
     ]
    }
   ],
   "source": [
    "class Bank:\n",
    "    def __init__(self):\n",
    "        #self.salary=50000 #public varaible\n",
    "        self.__salary=60000  #private varaible\n",
    "    def sabari(self):\n",
    "        print('Name: Sabari')\n",
    "        print('A/C No : 454455')\n",
    "        print('Balance : 10000')\n",
    "        print('Native : Tenkasi')\n",
    "    \n",
    "    def elango(self):\n",
    "        print('Name : Elango')\n",
    "        print('A/C No : 454468')\n",
    "        print('Balance : 20000')\n",
    "        print('Native : Tenkasi')\n",
    "        \n",
    "b=Bank()\n",
    "print(b.salary)\n",
    "b.elango()"
   ]
  },
  {
   "cell_type": "code",
   "execution_count": 1,
   "id": "b261af8c",
   "metadata": {},
   "outputs": [
    {
     "name": "stdout",
     "output_type": "stream",
     "text": [
      "my name is arun\n"
     ]
    },
    {
     "ename": "AttributeError",
     "evalue": "'Student' object has no attribute 'age'",
     "output_type": "error",
     "traceback": [
      "\u001b[1;31m---------------------------------------------------------------------------\u001b[0m",
      "\u001b[1;31mAttributeError\u001b[0m                            Traceback (most recent call last)",
      "Input \u001b[1;32mIn [1]\u001b[0m, in \u001b[0;36m<cell line: 15>\u001b[1;34m()\u001b[0m\n\u001b[0;32m     13\u001b[0m stu\u001b[38;5;241m=\u001b[39mStudent(\u001b[38;5;124m\"\u001b[39m\u001b[38;5;124marun\u001b[39m\u001b[38;5;124m\"\u001b[39m,\u001b[38;5;241m28\u001b[39m)\n\u001b[0;32m     14\u001b[0m \u001b[38;5;28mprint\u001b[39m(\u001b[38;5;124m\"\u001b[39m\u001b[38;5;124mmy name is\u001b[39m\u001b[38;5;124m\"\u001b[39m,stu\u001b[38;5;241m.\u001b[39mget_name())\n\u001b[1;32m---> 15\u001b[0m \u001b[38;5;28mprint\u001b[39m(\u001b[38;5;124mf\u001b[39m\u001b[38;5;124m'\u001b[39m\u001b[38;5;124m Im getting \u001b[39m\u001b[38;5;132;01m{\u001b[39;00mstu\u001b[38;5;241m.\u001b[39mage\u001b[38;5;132;01m}\u001b[39;00m\u001b[38;5;124m years old\u001b[39m\u001b[38;5;124m'\u001b[39m)\n\u001b[0;32m     16\u001b[0m stu\u001b[38;5;241m.\u001b[39mset_age(\u001b[38;5;241m30\u001b[39m)\n\u001b[0;32m     17\u001b[0m \u001b[38;5;28mprint\u001b[39m(\u001b[38;5;124mf\u001b[39m\u001b[38;5;124m'\u001b[39m\u001b[38;5;124m Im getting \u001b[39m\u001b[38;5;132;01m{\u001b[39;00mstu\u001b[38;5;241m.\u001b[39mage\u001b[38;5;132;01m}\u001b[39;00m\u001b[38;5;124m years old\u001b[39m\u001b[38;5;124m'\u001b[39m)\n",
      "\u001b[1;31mAttributeError\u001b[0m: 'Student' object has no attribute 'age'"
     ]
    }
   ],
   "source": [
    "#Encapsulation\n",
    "class Student:\n",
    "    def __init__(self,name,age):\n",
    "        self.name=name\n",
    "        self.__age=age\n",
    "    def get_name(self):\n",
    "        return self.name\n",
    "    def get_age(self):\n",
    "        return self._age\n",
    "    def set_age(self,age):\n",
    "        if age>=0:\n",
    "            self.age=age\n",
    "stu=Student(\"arun\",28)\n",
    "print(\"my name is\",stu.get_name())\n",
    "print(f' Im getting {stu.age} years old')\n",
    "stu.set_age(30)\n",
    "print(f' Im getting {stu.age} years old')"
   ]
  },
  {
   "cell_type": "markdown",
   "id": "8322ea4f",
   "metadata": {},
   "source": [
    "# Abstraction\n"
   ]
  },
  {
   "cell_type": "code",
   "execution_count": 22,
   "id": "dad43ef0",
   "metadata": {},
   "outputs": [
    {
     "name": "stdout",
     "output_type": "stream",
     "text": [
      "The mileage is 25 KMPH\n"
     ]
    }
   ],
   "source": [
    "#python program to Demonstrate abstract base class.\n",
    "\n",
    "from abc import ABC \n",
    "class car(ABC):\n",
    "    def mileage(self):\n",
    "        pass\n",
    "class tesla(car):\n",
    "    def mileage(self):\n",
    "        print('The mileage is 30 KMPH')\n",
    "class suzuki(car):\n",
    "    def mileage(self):\n",
    "        print('The mileage is 25 KMPH')\n",
    "class duster(car):\n",
    "    def mileage(self):\n",
    "        print('The mileage is 20 KMPH')\n",
    "\n",
    "s=suzuki()\n",
    "s.mileage()"
   ]
  },
  {
   "cell_type": "raw",
   "id": "95459769",
   "metadata": {},
   "source": [
    "ISSUBCLASS:\n",
    "    we can verify particular class is a subclass of another class.\n",
    "    issubclass function return true the given class is subclass of the specified class\n",
    "    other wise it return false.\n",
    "\n",
    "syntax:\n",
    "    issubclass(child,parent)\n",
    "    parent--parent to be checked child.\n",
    "    a parent type or a tuple of classes or data type."
   ]
  },
  {
   "cell_type": "code",
   "execution_count": 29,
   "id": "4be6fc34",
   "metadata": {},
   "outputs": [
    {
     "name": "stdout",
     "output_type": "stream",
     "text": [
      "False\n"
     ]
    }
   ],
   "source": [
    "class company:\n",
    "    def func1(self):\n",
    "        print('This is a parent class')\n",
    "class employee:\n",
    "    def func2(self):\n",
    "        print('This is child class')\n",
    "print(issubclass(company,employee))\n"
   ]
  },
  {
   "cell_type": "code",
   "execution_count": 26,
   "id": "e55cca16",
   "metadata": {},
   "outputs": [
    {
     "name": "stdout",
     "output_type": "stream",
     "text": [
      "True\n"
     ]
    }
   ],
   "source": [
    "class company:\n",
    "    def func1(self):\n",
    "        print('This is a parent class')\n",
    "class employee(company):\n",
    "    def func2(self):\n",
    "        print('This is child class')\n",
    "print(issubclass(employee,company))"
   ]
  },
  {
   "cell_type": "code",
   "execution_count": 30,
   "id": "96a4e2f6",
   "metadata": {},
   "outputs": [
    {
     "name": "stdout",
     "output_type": "stream",
     "text": [
      "The object value is= 15\n",
      "The count of object created = 1\n",
      "The object value is= 35\n",
      "The count of object created = 2\n",
      "The object value is= 45\n",
      "The count of object created = 3\n"
     ]
    }
   ],
   "source": [
    "#progarm to illustrate class varaible to keep count of number of objects created.\n",
    "\n",
    "class sample:\n",
    "    num = 0 #initialize the value as 0\n",
    "    def __init__(self,var):\n",
    "        sample.num += 1\n",
    "        self.var = var\n",
    "        print(\"The object value is=\",self.var)\n",
    "        print(\"The count of object created =\",sample.num)\n",
    "s1 = sample(15)\n",
    "s2 = sample(35)\n",
    "s3 = sample(45)"
   ]
  },
  {
   "cell_type": "code",
   "execution_count": 1,
   "id": "20d8443c",
   "metadata": {},
   "outputs": [
    {
     "name": "stdout",
     "output_type": "stream",
     "text": [
      "How Many Students?3\n",
      "Enter Your Name:abu\n",
      "Enter Your Marks:560\n",
      "My name is abu and marks is 560\n",
      "560 You Got A Grade\n",
      "******************************\n",
      "Enter Your Name:kkk\n",
      "Enter Your Marks:467\n",
      "My name is kkk and marks is 467\n",
      "467 You Got B Grade\n",
      "******************************\n",
      "Enter Your Name:res\n",
      "Enter Your Marks:200\n",
      "My name is res and marks is 200\n",
      "200 You Got Failed\n",
      "******************************\n"
     ]
    }
   ],
   "source": [
    "#A Python Program using a student class with instance methods to process0\n",
    "#the data of several students\n",
    "class student:\n",
    "    #__init__ - default constructor\n",
    "    #self - default keyword, will not pass any value to the arguments\n",
    "    def __init__(self,n='',m=0):\n",
    "        self.name=n\n",
    "        self.marks=m\n",
    "    def display(self):\n",
    "        print(f'My name is {self.name} and marks is {self.marks}')\n",
    "    #To calculate grades based on marks\n",
    "    def calculate(self):\n",
    "        if (self.marks>=600):\n",
    "            print(self.marks,'You Got Distinction')\n",
    "        elif (self.marks>=500):\n",
    "            print(self.marks,'You Got A Grade')\n",
    "        elif (self.marks>=350):\n",
    "            print(self.marks,'You Got B Grade')   \n",
    "        else:\n",
    "            print(self.marks,'You Got Failed')\n",
    "n=int(input('How Many Students?'))\n",
    "i=0\n",
    "while(i<n):\n",
    "    name=input('Enter Your Name:')\n",
    "    marks=int(input('Enter Your Marks:'))\n",
    "    #Create Student Class instance and Store Data\n",
    "    s=student(name,marks)\n",
    "    s.display()\n",
    "    s.calculate()\n",
    "    i+=1\n",
    "    print('******************************')"
   ]
  },
  {
   "cell_type": "code",
   "execution_count": null,
   "id": "9fdfb7ae",
   "metadata": {},
   "outputs": [],
   "source": []
  }
 ],
 "metadata": {
  "kernelspec": {
   "display_name": "Python 3 (ipykernel)",
   "language": "python",
   "name": "python3"
  },
  "language_info": {
   "codemirror_mode": {
    "name": "ipython",
    "version": 3
   },
   "file_extension": ".py",
   "mimetype": "text/x-python",
   "name": "python",
   "nbconvert_exporter": "python",
   "pygments_lexer": "ipython3",
   "version": "3.9.12"
  }
 },
 "nbformat": 4,
 "nbformat_minor": 5
}
